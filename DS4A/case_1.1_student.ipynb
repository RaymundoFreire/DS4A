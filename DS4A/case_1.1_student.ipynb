{
 "cells": [
  {
   "cell_type": "markdown",
   "metadata": {},
   "source": [
    "# Pre-Case Setup: Python, Jupyter Notebook, Git"
   ]
  },
  {
   "cell_type": "markdown",
   "metadata": {},
   "source": [
    "## Goals (2 min)\n",
    "\n",
    "By the end of this case you should have properly set up and familiarized yourself with Python, Jupyter, Anaconda, and Github. You should have a working knowledge of various fundamental building blocks of Python (listed at the end of the case). This means being able to write simple code to perform analytical tasks such as creating metrics for making a business decision."
   ]
  },
  {
   "cell_type": "markdown",
   "metadata": {},
   "source": [
    "## Python and Jupyter (2 min)\n",
    "\n",
    "Python is a general purpose programming language that allows for both simple and complex data analysis. Python is incredibly versatile, allowing analysts, consultants, engineers, and managers to obtain and analyze information for insightful decision-making.\n",
    "\n",
    "The [Jupyter Notebook](https://jupyter.org/index.html) is an open-source web application that allows for Python code development. Jupyter further allows for inline plotting and provides useful mechanisms for viewing data that make it an excellent resource for a variety of projects and disciplines.\n",
    "\n",
    "The following section will outline how to install and begin working with Python and Juypter."
   ]
  },
  {
   "cell_type": "markdown",
   "metadata": {},
   "source": [
    "## Setting up the Python Environment (5 min)\n",
    "\n",
    "Instruction guides for Windows and macOS are included below. Follow the one that corresponds with your operating system.\n",
    "\n",
    "### Windows Install\n",
    "\n",
    "Step 1: Open browser and go to https://www.anaconda.com/distribution/\n",
    "\n",
    "Step 2: Click on \"Windows\" and then \"Download\" for Python 3.7 64-bit installer\n",
    "\n",
    "Step 3: Run the downloaded file found in the downloads section from Step 2\n",
    "\n",
    "Step 4: Click through the install prompts\n",
    "\n",
    "Step 5: Go to menu (or Windows Explorer), find the Anaconda3 folder, and double-click to run\n",
    "\n",
    "### macOS Install\n",
    "\n",
    "Step 1: Open browser and go to https://www.anaconda.com/distribution/\n",
    "\n",
    "Step 2: Click on \"macOS\" and then \"Download\" for Python 3.7 64-bit installer\n",
    "\n",
    "Step 3: Run the downloaded file found in the downloads section from Step 2\n",
    "\n",
    "Step 4: Click through the install prompts\n",
    "\n",
    "Step 5: In Finder (or Launchpad), browse to the Anaconda3 folder to find the Jupyter program, and double-click to run"
   ]
  },
  {
   "cell_type": "markdown",
   "metadata": {},
   "source": [
    "## File Management with Python and Jupyter (1 min)\n",
    "\n",
    "It is common practice to have a main folder where all projects will be located (e.g. \"jupyter_research\"). The following are guidelines you can use for Python projects to help keep your code organized and accessible:\n",
    "\n",
    "1. Create subfolders for each Jupyter-related project\n",
    "3. Group related .ipynb files together in the same folder\n",
    "2. It can be useful to create a \"Data\" folder within individual project folders if using a large number of related data files\n",
    "\n",
    "You should now be set up and ready to begin coding in Python!"
   ]
  },
  {
   "cell_type": "markdown",
   "metadata": {},
   "source": [
    "## Setting up Git, GitHub, and cloning a repository (7 min)"
   ]
  },
  {
   "cell_type": "markdown",
   "metadata": {},
   "source": [
    "Git is a free and open source distributed version-control system. It is very useful for both simple software projects and large multi-functional projects that span thousands of files.  The main website for Git documentation is https://git-scm.com/. We will go over a brief introduction to Git here to get up and running with the software, in addition to understanding how its version control system operates. We'll create a new repository and also cover how to clone a repository from GitHub. GitHub is an online platform that hosts repositories for users to interact with on their own projects and collaborative projects.\n",
    "\n",
    "Here is a [Git tutorial](https://www.youtube.com/watch?v=HVsySz-h9r4) you can watch in your spare time to advance your understanding of this distributed file sharing system.\n",
    "\n",
    "There are also numerous specialized [GUIs for Git](https://git-scm.com/downloads/guis/). These are effectively different editors for Git and you can choose one that you like. We recommend you search for a simple introductory tutorial on the editor of your choice as well.\n",
    "\n",
    "The following steps outline how to get started with Git, sign up for a GitHub account, create a repository, and clone a repository to your computer:"
   ]
  },
  {
   "cell_type": "markdown",
   "metadata": {},
   "source": [
    "Step 1: Open your browser and go to https://git-scm.com/downloads and download Git for your operating system\n",
    "\n",
    "Step 2: Create a new repository by browsing to the folder on your computer that you'd like to work under. From this folder, run the command: git init\n",
    "\n",
    "Step 3: Open your browser and go to https://github.com/ and sign up for a Github account\n",
    "\n",
    "Step 4: On GitHub, navigate to the main page of the repository you are interested in using. Note that when you create a repository on GitHub, it is a remote repository. We will clone a repository to create a local copy on your computer and we can then sync between the two locations when needed. Hence, we will have a local copy of the repository and a remote copy of the repository.\n",
    "\n",
    "Step 5: Under the repository name on Github, click clone or download\n",
    "\n",
    "Step 6: In the Clone with HTTPs section, copy the clone URL link\n",
    "\n",
    "Step 7: Open your command line and navigate to the current working directory to the location where you want the cloned directory to be made. Type and run the command: git clone https://github.com/YOUR-USERNAME/YOUR-REPOSITORY\n",
    "\n",
    "You should have now created your local clone repository. Let's cover some of the utilities available with Git."
   ]
  },
  {
   "cell_type": "markdown",
   "metadata": {},
   "source": [
    "## Understanding the Git workflow (8 min)\n",
    "\n",
    "Git is a distributed version-control system. The Git workflow is built upon three objects managed by Git:\n",
    "1. Your working directory\n",
    "2. The index (staging area)\n",
    "3. The HEAD (points to your last commit)\n",
    "\n",
    "The central workflow with Git is to locally edit files on your staging area (updating the index) and commit the changes to your working directory (therefore updating the HEAD) when you are ready to save this version of your work to your repository. While you are editing the files in the staging area, you can of course save these files as you progress, however the files on your working directory will not have changed since you need to commit the changes. Hence, you essentially have two versions of files, one that you are editing, and one that is a snapshot from the previous commit.\n",
    "\n",
    "Let's go through a simple example of committing a change to some text file ```hello.txt```.\n",
    "\n",
    "Step 1: Create a text file hello.txt on your local computer in the folder you will be using Git from.\n",
    "\n",
    "Step 2: Edit the file to add one line to the text file. Say you add \"Hello World\" as the first line. Save the file.\n",
    "\n",
    "Step 3: Update your staging area (i.e. update the index). To do this, use the command: ```git add hello.txt```\n",
    "\n",
    "(If you have multiple files and you'd like to add all the files with changes in the folder to the staging area you can use the command: ```git add *```)\n",
    "\n",
    "Step 4: To commit the changes on the staging area to the working directory, use the command: ```git commit -m \"Commit message\"```\n",
    "\n",
    "(You should update the commit message to provide useful information. Do not neglect this as it can be very useful to have informative commit messages when debugging unexpected issues with your files)\n",
    "\n",
    "Step 5: Step 4 commits the file to the HEAD, but the remote repository will not update, so you've updated the HEAD of your local working copy. To push the changes to your remote repository, use the command: ```git push origin master```\n",
    "\n",
    "Furthermore, useful commands to check the status and history of your repository include:\n",
    "1. Command to check repository status: ```git status```\n",
    "2. Command to check history of repository: ```git log```"
   ]
  },
  {
   "cell_type": "markdown",
   "metadata": {},
   "source": [
    "This covers the basics of Git. While it takes considerable practice to master, we've covered the cloning, adding, committing, and pushing features that are the backbone of the Git version control software.\n",
    "\n",
    "We're ready to begin the case."
   ]
  },
  {
   "cell_type": "markdown",
   "metadata": {},
   "source": [
    "# Identifying Expansion Opportunities for Luxury Commercial Airline Flights"
   ]
  },
  {
   "cell_type": "markdown",
   "metadata": {},
   "source": [
    "## Case Introduction (5 min)\n",
    "\n",
    "**Business Context.** You are an employee for GrowthAir, a growing commercial airline company. In the past few years, GrowthAir has expanded luxury flight services to locations across the globe. Following your team's excellent performance in identifying new business opportunities last year, you have been tasked with identifying the top countries to further expand GrowthAir's luxury flight service.\n",
    "\n",
    "**Business Problem.** Your manager has asked you to answer the following question: <b>\"In which countries should GrowthAir expand its luxury flight service?\"</b>\n",
    "\n",
    "**Analytical Context.** The relevant data is a series of success estimates (i.e. probabilities of success) that your internal marketing research teams have come up with. Using your ability to conduct data analysis in Python, you will embark on summarizing the available success estimates to produce a concise recommendation to your boss.\n",
    "\n",
    "**Execution**. In this case, you will look at simple metrics on the data such as mean, median, min/max and ultimately make your suggestion based on these elementary statistics. The analysis portion should be relatively simple and every student should be able to do this with pen and paper. However, what is special about this case is that you will perform these tasks in a Python environment to familiarize you with new techniques and tools. "
   ]
  },
  {
   "cell_type": "markdown",
   "metadata": {},
   "source": [
    "## Fundamentals of Python (7 min)\n",
    "\n",
    "[Python](https://docs.python.org/3/) is an [interpreted, high-level general programming language](https://www.webopedia.com/TERM/O/object_oriented_programming_OOP.html) that was first released in 1991. Python allows users to easily manipulate data and store values in what are known as <b>objects</b>. Everything in Python is an object and has a <b>type</b>. For example, if a user aims to store the integer 5 in an object named ```my_int```, this can be accomplished by the statement, ```my_int = 5```. This statement tells Python to assign the integer value of 5 to the **variable** ```my_int``` (called a variable here because it can change value). ```my_int``` is a Python object, and has type ```int```.\n",
    "\n",
    "Similar to how Excel distinguishes different data types (such as Text, Number, Currency, Scientific), Python offers a variety of data types. Here are a few common data types:\n",
    "\n",
    "1. Integers, type ```int```: ```my_int = 1```\n",
    "2. Float type ```float```: ```my_float = 25.5```\n",
    "3. Strings, type ```str```: ```my_string = 'Hello'```\n",
    "\n",
    "Here we see (1) <b>integers</b> and (2) <b>floats</b> store numeric data.  The difference between the two is that floats store decimal variables, whereas the integer type can only store integer variables. (3) is the <b>string</b> type. Strings are used to store textual data in Python. This case will use string variables to store country names. They are often used to store identifiers such as person names, city names, and more.\n",
    "\n",
    "There are other data types available in Python; however, these are the three fundamental types that you will see across almost every Python program. Always keep in mind that **every** object in Python has a type and some of these \"types\" can be custom-defined by the user, which is one of the benefits of Python.\n",
    "\n",
    "Now that we've covered the fundamentals of Python, let's take a look at GrowthAir's proprietary company data on country success estimates."
   ]
  },
  {
   "cell_type": "markdown",
   "metadata": {},
   "source": [
    "## Exploring company data on success estimates (5 min)\n",
    "\n",
    "Let's take a look at a common data structure used to hold your company's proprietary data on estimates of probability of success for global expansion projects by country.  The ```success_estimates``` variable below is a Python dictionary, which is being assigned certain data using the ```'='``` <b>assignment operator</b>. Each estimate here is a number (float) between 0 and 1, inclusive, which represents the probability that expanding to that country will be successful.\n",
    "\n",
    "Python's dictionary type stores key-value pairs that allow users to quickly access information for a particular key. By specifying a key, the user can return the value corresponding to the given key. Python's syntax for [dictionaries](https://www.w3schools.com/python/python_dictionaries.asp) uses curly braces {},\n",
    "\n",
    "```python\n",
    "user_dictionary = {'Key1':Value1, 'Key2':Value2, 'Key3':Value3}\n",
    "```\n",
    "\n",
    "The ```success_estimates``` dictionary has keys which are strings, and values which are of type <b>list</b>. A [list](https://www.w3schools.com/python/python_lists.asp) is an incredibly useful data structure in Python that can store any number of Python objects, and are denoted by the use of square brackets ```[]```. In ```success_estimates``` below, the list contains float types. Lists are versatile and can be expanded by adding new elements to the end of the list (the right-most side is considered the end of the list). Moreover, list elements (i.e. the objects in the list) can be accessed easily using integer indices. Interestingly, lists can also store other lists (called a lists of lists).  This makes them a powerful tool for holding complex data sets.\n",
    "\n",
    "Let's take a look at the ```success_estimates``` data:"
   ]
  },
  {
   "cell_type": "code",
   "execution_count": 1,
   "metadata": {},
   "outputs": [],
   "source": [
    "# Data on probability of expansion success by country estimates\n",
    "success_estimates = {'Australia': [0.6, 0.33, 0.11, 0.14],\n",
    "                     'France': [0.66, 0.78, 0.98, 0.2],\n",
    "                         'Italy': [0.6],\n",
    "                     'Brazil': [0.22, 0.22, 0.43],\n",
    "                     'USA': [0.2, 0.5, 0.3],\n",
    "                     'England': [0.45],\n",
    "                     'Canada': [0.25, 0.3],\n",
    "                     'Argentina': [0.22],\n",
    "                     'Greece': [0.45, 0.66, 0.75, 0.99, 0.15, 0.66],\n",
    "                     'Morocco': [0.29],\n",
    "                     'Tunisia': [0.68, 0.56],\n",
    "                     'Egypt': [0.99],\n",
    "                     'Jamaica': [0.61, 0.65, 0.71],\n",
    "                     'Switzerland': [0.73, 0.86, 0.84, 0.51, 0.99],\n",
    "                     'Germany': [0.45, 0.49, 0.36]}"
   ]
  },
  {
   "cell_type": "markdown",
   "metadata": {},
   "source": [
    "Python easily allows you to print the elements stored in any variable to the screen using the ```print()``` statement:"
   ]
  },
  {
   "cell_type": "code",
   "execution_count": 2,
   "metadata": {
    "scrolled": true
   },
   "outputs": [
    {
     "name": "stdout",
     "output_type": "stream",
     "text": [
      "{'Australia': [0.6, 0.33, 0.11, 0.14], 'France': [0.66, 0.78, 0.98, 0.2], 'Italy': [0.6], 'Brazil': [0.22, 0.22, 0.43], 'USA': [0.2, 0.5, 0.3], 'England': [0.45], 'Canada': [0.25, 0.3], 'Argentina': [0.22], 'Greece': [0.45, 0.66, 0.75, 0.99, 0.15, 0.66], 'Morocco': [0.29], 'Tunisia': [0.68, 0.56], 'Egypt': [0.99], 'Jamaica': [0.61, 0.65, 0.71], 'Switzerland': [0.73, 0.86, 0.84, 0.51, 0.99], 'Germany': [0.45, 0.49, 0.36]}\n"
     ]
    }
   ],
   "source": [
    "#no quotations marks needed when printing an existing variable\n",
    "print(success_estimates)"
   ]
  },
  {
   "cell_type": "markdown",
   "metadata": {},
   "source": [
    "Notice the re-ordering of the dictonary elements when we print compared to the order in which we originally defined the dictionary. This is a key aspect of dictionary data types – they are unordered! (This is very different compared to list data types, which are ordered. More on this later.)\n",
    "\n",
    "Now intuitively, we would like to recommend that the business put effort into the country with the highest success estimate. But what does this mean when there are multiple success estimates for some countries, and only one for others? We can use metrics such as averages to resolve this. We will explore this next."
   ]
  },
  {
   "cell_type": "markdown",
   "metadata": {},
   "source": [
    "## Interacting with dictionaries and lists (15 min)\n",
    "\n",
    "Taking a careful look at the ```success_estimates``` dictionary, you notice some countries only have one success estimate, while others have many. For example, England has only one estimate contained in its list [0.45], while Jamaica has three estimates contained in its list [0.61, 0.65, 0.71]. Let's zoom in on Jamaica and take a look at some summary statistics of the estimates.\n",
    "\n",
    "In Python, the dictionary type has built-in methods (functions, which we will discuss later) to access the dictionary keys and values. These methods are called by typing ```.keys()``` or ```.values()``` after the dictonary object. We will change the return type of calling ```.keys()``` and ```.values()``` to a list by using the ```list()``` method."
   ]
  },
  {
   "cell_type": "code",
   "execution_count": 3,
   "metadata": {
    "scrolled": true
   },
   "outputs": [
    {
     "data": {
      "text/plain": [
       "dict_keys(['Australia', 'France', 'Italy', 'Brazil', 'USA', 'England', 'Canada', 'Argentina', 'Greece', 'Morocco', 'Tunisia', 'Egypt', 'Jamaica', 'Switzerland', 'Germany'])"
      ]
     },
     "execution_count": 3,
     "metadata": {},
     "output_type": "execute_result"
    }
   ],
   "source": [
    "# Look at the keys...\n",
    "success_estimates.keys()"
   ]
  },
  {
   "cell_type": "code",
   "execution_count": 4,
   "metadata": {},
   "outputs": [
    {
     "data": {
      "text/plain": [
       "['Australia',\n",
       " 'France',\n",
       " 'Italy',\n",
       " 'Brazil',\n",
       " 'USA',\n",
       " 'England',\n",
       " 'Canada',\n",
       " 'Argentina',\n",
       " 'Greece',\n",
       " 'Morocco',\n",
       " 'Tunisia',\n",
       " 'Egypt',\n",
       " 'Jamaica',\n",
       " 'Switzerland',\n",
       " 'Germany']"
      ]
     },
     "execution_count": 4,
     "metadata": {},
     "output_type": "execute_result"
    }
   ],
   "source": [
    "#now let's look at the keys in list form. this is more legible/usable for us later on...\n",
    "list(success_estimates.keys())"
   ]
  },
  {
   "cell_type": "code",
   "execution_count": 7,
   "metadata": {},
   "outputs": [
    {
     "data": {
      "text/plain": [
       "[[0.6, 0.33, 0.11, 0.14],\n",
       " [0.66, 0.78, 0.98, 0.2],\n",
       " [0.6],\n",
       " [0.22, 0.22, 0.43],\n",
       " [0.2, 0.5, 0.3],\n",
       " [0.45],\n",
       " [0.25, 0.3],\n",
       " [0.22],\n",
       " [0.45, 0.66, 0.75, 0.99, 0.15, 0.66],\n",
       " [0.29],\n",
       " [0.68, 0.56],\n",
       " [0.99],\n",
       " [0.61, 0.65, 0.71],\n",
       " [0.73, 0.86, 0.84, 0.51, 0.99],\n",
       " [0.45, 0.49, 0.36]]"
      ]
     },
     "execution_count": 7,
     "metadata": {},
     "output_type": "execute_result"
    }
   ],
   "source": [
    "# ...and their corresponding values\n",
    "list(success_estimates.values())"
   ]
  },
  {
   "cell_type": "markdown",
   "metadata": {},
   "source": [
    "We will make use of the access to keys and values of a dictionary later in the case when comparing across numerous countries' estimates. For now, just remember that you can access a dictionary's full list of keys or values simply by calling built-in methods.\n",
    "\n",
    "We'd also like to check if a country name is one the keys in the dictionary. Python allows us to check if a key is in a dictionary through the use of the ```in``` keyword. The statement ```key in dictionary``` will return a <b>boolean type</b> of ```True``` if the key is one of the keys in the dictionary and ```False``` otherwise. Let's take a look at how this works."
   ]
  },
  {
   "cell_type": "code",
   "execution_count": 8,
   "metadata": {},
   "outputs": [
    {
     "name": "stdout",
     "output_type": "stream",
     "text": [
      "Checking if Morocco key is present:\n",
      "True\n",
      "Checking if Japan key is present:\n",
      "False\n"
     ]
    }
   ],
   "source": [
    "print('Checking if Morocco key is present:')\n",
    "print('Morocco' in success_estimates) #print the VALUE of \"Morocco in success_estimates\"\n",
    "\n",
    "print('Checking if Japan key is present:')\n",
    "japan_boolean = 'Japan' in success_estimates\n",
    "print(japan_boolean)"
   ]
  },
  {
   "cell_type": "markdown",
   "metadata": {},
   "source": [
    "We'd now like to access the value corresponding to a specific key in the ```success_estimates``` dictionary. Simply type the value name in square brackets adjacent to the dictionary name. For example, ```success_estimates['Jamaica']``` will return Jamaica's list of estimates:"
   ]
  },
  {
   "cell_type": "code",
   "execution_count": 9,
   "metadata": {},
   "outputs": [
    {
     "data": {
      "text/plain": [
       "[0.61, 0.65, 0.71]"
      ]
     },
     "execution_count": 9,
     "metadata": {},
     "output_type": "execute_result"
    }
   ],
   "source": [
    "success_estimates['Jamaica'] "
   ]
  },
  {
   "cell_type": "markdown",
   "metadata": {},
   "source": [
    "If you would like to store the result in a variable to be used later, use the assignment operator ```'='```:"
   ]
  },
  {
   "cell_type": "code",
   "execution_count": 10,
   "metadata": {},
   "outputs": [],
   "source": [
    "jamaica_list = success_estimates['Jamaica'] \n",
    "france_list = success_estimates['France']\n",
    "greece_list = success_estimates['Greece']\n",
    "morocco_list = success_estimates['Morocco'] "
   ]
  },
  {
   "cell_type": "markdown",
   "metadata": {},
   "source": [
    "You can then view the contents of the list via the ```print()``` method:"
   ]
  },
  {
   "cell_type": "code",
   "execution_count": 11,
   "metadata": {},
   "outputs": [
    {
     "name": "stdout",
     "output_type": "stream",
     "text": [
      "[0.61, 0.65, 0.71]\n"
     ]
    }
   ],
   "source": [
    "print(jamaica_list)"
   ]
  },
  {
   "cell_type": "markdown",
   "metadata": {},
   "source": [
    "Here, you'll see that the order of the elements in the Jamaica list is the same as what was originally defined above. This is because lists are ordered objects. In fact, you can access elements of a list by an <i>index</i>. In Python, indices start at 0 (for the first element of a given list) and increment by 1 for each successive element. For example, let's print each element of the Jamaica list:"
   ]
  },
  {
   "cell_type": "code",
   "execution_count": 10,
   "metadata": {},
   "outputs": [
    {
     "name": "stdout",
     "output_type": "stream",
     "text": [
      "0.61\n",
      "0.65\n",
      "0.71\n"
     ]
    }
   ],
   "source": [
    "# Each successive print statement will print on a new line\n",
    "print(jamaica_list[0]) # prints the first element of the list\n",
    "print(jamaica_list[1]) # prints the second element of the list\n",
    "print(jamaica_list[2]) # prints the third element of the list"
   ]
  },
  {
   "cell_type": "markdown",
   "metadata": {},
   "source": [
    "[Slicing and indexing lists](https://railsware.com/blog/python-for-machine-learning-indexing-and-slicing-for-lists-tuples-strings-and-other-sequential-types/) (among other objects such as arrays, dataframes) is a crucial and essential part of basic Python. You will see this often in your data science career:"
   ]
  },
  {
   "cell_type": "code",
   "execution_count": 11,
   "metadata": {},
   "outputs": [
    {
     "name": "stdout",
     "output_type": "stream",
     "text": [
      "[0.65, 0.71]\n",
      "[0.65, 0.71]\n"
     ]
    }
   ],
   "source": [
    "#taking the last 2 elements of jamaica_list\n",
    "print(jamaica_list[-2:])\n",
    "print(jamaica_list[1:])"
   ]
  },
  {
   "cell_type": "code",
   "execution_count": 12,
   "metadata": {},
   "outputs": [
    {
     "name": "stdout",
     "output_type": "stream",
     "text": [
      "0.61\n"
     ]
    }
   ],
   "source": [
    "#multi-layered slicing\n",
    "print(success_estimates['Jamaica'][0]) #getting the first jamaican estimate from the dictionary"
   ]
  },
  {
   "cell_type": "markdown",
   "metadata": {},
   "source": [
    "Python also offers a simple way to determine the length of a list: the ```len()``` method. We expect the length of ```jamaica_list``` to be 3 since it has three elements:"
   ]
  },
  {
   "cell_type": "code",
   "execution_count": 13,
   "metadata": {
    "scrolled": true
   },
   "outputs": [
    {
     "data": {
      "text/plain": [
       "3"
      ]
     },
     "execution_count": 13,
     "metadata": {},
     "output_type": "execute_result"
    }
   ],
   "source": [
    "len(jamaica_list) # returns the length of the list"
   ]
  },
  {
   "cell_type": "markdown",
   "metadata": {},
   "source": [
    "### Exercise 1 (3 min):\n",
    "\n",
    "Print the length of the success estimate lists for France, Greece, and Morocco."
   ]
  },
  {
   "cell_type": "markdown",
   "metadata": {},
   "source": []
  },
  {
   "cell_type": "code",
   "execution_count": 13,
   "metadata": {},
   "outputs": [
    {
     "data": {
      "text/plain": [
       "4"
      ]
     },
     "execution_count": 13,
     "metadata": {},
     "output_type": "execute_result"
    }
   ],
   "source": [
    "france_list = success_estimates['France']\n",
    "greece_list = success_estimates['Greece']\n",
    "morocco_list = success_estimates['Morocco'] \n",
    "len(france_list)\n"
   ]
  },
  {
   "cell_type": "code",
   "execution_count": 14,
   "metadata": {},
   "outputs": [
    {
     "data": {
      "text/plain": [
       "6"
      ]
     },
     "execution_count": 14,
     "metadata": {},
     "output_type": "execute_result"
    }
   ],
   "source": [
    "len(greece_list)\n"
   ]
  },
  {
   "cell_type": "code",
   "execution_count": 15,
   "metadata": {},
   "outputs": [
    {
     "data": {
      "text/plain": [
       "1"
      ]
     },
     "execution_count": 15,
     "metadata": {},
     "output_type": "execute_result"
    }
   ],
   "source": [
    "len(morocco_list)"
   ]
  },
  {
   "cell_type": "code",
   "execution_count": null,
   "metadata": {},
   "outputs": [],
   "source": []
  },
  {
   "cell_type": "code",
   "execution_count": 16,
   "metadata": {},
   "outputs": [
    {
     "name": "stdout",
     "output_type": "stream",
     "text": [
      "[0.66, 0.78, 0.98, 0.2]\n"
     ]
    }
   ],
   "source": [
    "france_list = success_estimates['France']\n",
    "print(france_list)"
   ]
  },
  {
   "cell_type": "code",
   "execution_count": null,
   "metadata": {},
   "outputs": [],
   "source": []
  },
  {
   "cell_type": "markdown",
   "metadata": {},
   "source": [
    "### Exercise 2 (3 min):\n",
    "\n",
    "Which of the following would be useful to store project success estimates if they were available at a regional level instead of a country level?\n",
    "\n",
    "(a) List\n",
    "\n",
    "(b) Dictionary\n",
    "\n",
    "(c) Float\n",
    "\n",
    "(d) String\n",
    "\n",
    "**Answer.**"
   ]
  },
  {
   "cell_type": "markdown",
   "metadata": {},
   "source": [
    "Now that we're familiar with using lists and know that lists are ordered data structures while dictionaries are unordered data structures, let's begin to compare success estimates across countries."
   ]
  },
  {
   "cell_type": "markdown",
   "metadata": {},
   "source": [
    "## Calculating a country-specific average success estimate (10 min)"
   ]
  },
  {
   "cell_type": "markdown",
   "metadata": {},
   "source": [
    "Continuing our analysis on Jamaica, the list contains three numbers, [0.61, 0.65, 0.71]. Recall these number are of type ```float``` in Python, which stores numeric decimal values. One logical way to summarize these estimates so that they can be compared across countries is to use the arithmetic average. Let's use basic arthimetic operators to calculate the average success estimate for Jamaica, storing the result in a new variable ```avg_jamaica```:"
   ]
  },
  {
   "cell_type": "code",
   "execution_count": 15,
   "metadata": {},
   "outputs": [
    {
     "name": "stdout",
     "output_type": "stream",
     "text": [
      "0.6566666666666666\n"
     ]
    }
   ],
   "source": [
    "avg_jamaica = (0.61 + 0.65 + 0.71) / 3\n",
    "print(avg_jamaica)"
   ]
  },
  {
   "cell_type": "markdown",
   "metadata": {},
   "source": [
    "We see the average probability of success estimate for Jamaica is approximately 0.657.  However, we produced this estimate by hand-coding the values. If we were to do this for every country, it would take quite a long time. So we'd like to use a more automated way of producing the average."
   ]
  },
  {
   "cell_type": "markdown",
   "metadata": {},
   "source": [
    "To produce an average we can utilize a <b>function</b>. Functions operate on data and variables in Python to perform a desired action. Functions may have both <b>inputs</b> and <b>outputs</b>, just like familiar mathematical operators like addition, subtraction, multiplication, and division (which each have two inputs and one output). While functions in Python may still be for a mathematical purpose, such as squaring an integer, Python allows for more abstract function behaviour, such as printing to the screen. In this case, the ```print()``` function will print its input to the screen."
   ]
  },
  {
   "cell_type": "markdown",
   "metadata": {},
   "source": [
    "Let's use Python's built-in mathematical functions ```sum()```, ```min()```, and ```max()``` to calculate Jamaica's average success estimate, minimum success estimate, and maximum success estimate, respectively:"
   ]
  },
  {
   "cell_type": "code",
   "execution_count": 20,
   "metadata": {
    "scrolled": true
   },
   "outputs": [
    {
     "name": "stdout",
     "output_type": "stream",
     "text": [
      "[]\n"
     ]
    }
   ],
   "source": [
    "country_name = 'Jamaica'\n",
    "jamaica_list = success_estimates[country_name] # list of the estimates for Jamaica\n",
    "print(jamaica_list)"
   ]
  },
  {
   "cell_type": "code",
   "execution_count": 17,
   "metadata": {},
   "outputs": [
    {
     "name": "stdout",
     "output_type": "stream",
     "text": [
      "Country: Jamaica , Average: 0.6566666666666666\n",
      "Country: Jamaica , Min: 0.61\n",
      "Country: Jamaica , Max: 0.71\n"
     ]
    }
   ],
   "source": [
    "avg_jamaica = sum(jamaica_list) / len(jamaica_list)\n",
    "min_jamaica = min(jamaica_list)\n",
    "max_jamaica = max(jamaica_list)\n",
    "print(\"Country:\",country_name,\", Average:\",avg_jamaica)\n",
    "print(\"Country:\",country_name,\", Min:\",min_jamaica)\n",
    "print(\"Country:\",country_name,\", Max:\",max_jamaica)"
   ]
  },
  {
   "cell_type": "markdown",
   "metadata": {},
   "source": [
    "As expected, we get the same average result of approximately 0.657. Note that we could also have rounded the results to two decimal places using the [round()](https://www.w3schools.com/python/ref_func_round.asp) method. This can improve readability."
   ]
  },
  {
   "cell_type": "code",
   "execution_count": 18,
   "metadata": {},
   "outputs": [
    {
     "name": "stdout",
     "output_type": "stream",
     "text": [
      "Country: Jamaica , Average: 0.66\n",
      "Country: Jamaica , Min: 0.61\n",
      "Country: Jamaica , Max: 0.71\n"
     ]
    }
   ],
   "source": [
    "avg_jamaica = round(sum(jamaica_list) / len(jamaica_list),2)\n",
    "min_jamaica = round(min(jamaica_list),2)\n",
    "max_jamaica = round(max(jamaica_list),2)\n",
    "print(\"Country:\",country_name,\", Average:\",avg_jamaica)\n",
    "print(\"Country:\",country_name,\", Min:\",min_jamaica)\n",
    "print(\"Country:\",country_name,\", Max:\",max_jamaica)"
   ]
  },
  {
   "cell_type": "markdown",
   "metadata": {},
   "source": [
    "Functions in Python are a very powerful tool to increase productivity and perform more complex tasks."
   ]
  },
  {
   "cell_type": "markdown",
   "metadata": {},
   "source": [
    "### Exercise 3 (5 min):\n",
    "\n",
    "Write a script to calculate the average success for every country. Output (using ```print()```) each country's average success estimate to the screen. The print statements should output each country on a new line, for example:\n",
    "```\n",
    "Country: France , Average: 0.655\n",
    "Country: Brazil , Average: 0.29\n",
    "```"
   ]
  },
  {
   "cell_type": "markdown",
   "metadata": {},
   "source": [
    "**Answer.**"
   ]
  },
  {
   "cell_type": "markdown",
   "metadata": {},
   "source": [
    "## Systematically determine the average success estimate for all of the countries (15 min)"
   ]
  },
  {
   "cell_type": "markdown",
   "metadata": {},
   "source": [
    "The end goal of this analysis is a recommendation for where global expansion opportunities should be considered. To reach a conclusion, it'd be ideal to have the average success probability for each country.\n",
    "\n",
    "To achieve this, we will use a control flow element in Python -  the [for loop](https://www.w3schools.com/python/python_for_loops.asp).  The ```for``` loop allows one to execute the same statements over and over again (i.e. looping). This saves a significant amount of time coding repetitive tasks and aids in code readability.  The general structure of a `for` loop is:\n",
    "\n",
    "```python\n",
    "for iterator_variable in some_sequence:\n",
    "    statements(s)\n",
    "```\n",
    "\n",
    "The `for` loop iterates over ```some_sequence``` and performs ```statements(s)``` at each iteration. That is, at each iteration the ```iterator_variable```  is updated to the next value in ```some_sequence```. As a concrete example, consider the loop:\n",
    "\n",
    "```python\n",
    "for i in [1,2,3,4]:\n",
    "    print(i*i)\n",
    "```\n",
    "\n",
    "Here, the `for` loop will print to the screen four times; that is it will print ```1``` on the first iteration of the loop, ```4``` on the second iteration, ```9``` on the third, and ```16``` on the fourth. Hence, the `for` loop statement will iterate over all the elements of the list ```[1,2,3,4]```, and at each iteration it updates the iterator variable ```i``` to the next value in the list ```[1,2,3,4]```. In `for` loops, it is an extremely good habit to choose an iterator variable that provides context rather than a random letter. In this case, we will use both to get you accustomed to both since you will mostly likely see both throughout the course of your data science career, but we encourage you to not use a generic name like `i` whenever possible for ease of communication.\n",
    "\n",
    "Let's use a `for` loop on our country data by getting a list of all the keys in ```success_estimates```:"
   ]
  },
  {
   "cell_type": "code",
   "execution_count": 23,
   "metadata": {},
   "outputs": [
    {
     "name": "stdout",
     "output_type": "stream",
     "text": [
      "['Australia', 'France', 'Italy', 'Brazil', 'USA', 'England', 'Canada', 'Argentina', 'Greece', 'Morocco', 'Tunisia', 'Egypt', 'Jamaica', 'Switzerland', 'Germany']\n"
     ]
    }
   ],
   "source": [
    "# Get all the keys from the success_estimates dictionary\n",
    "country_name_list = list(success_estimates.keys())\n",
    "print(country_name_list)"
   ]
  },
  {
   "cell_type": "markdown",
   "metadata": {},
   "source": [
    "Here we loop through all the elements in ```country_name_list```, extract the corresponding value from ```success_estimates``` (which will be of type list), and subsequently take the mean of the list. Detailed printing will guide you through the `for` loop execution:"
   ]
  },
  {
   "cell_type": "code",
   "execution_count": 24,
   "metadata": {
    "scrolled": false
   },
   "outputs": [
    {
     "name": "stdout",
     "output_type": "stream",
     "text": [
      "--Begin one iteration of loop--\n",
      "Element of country_name_list, placeholder i = Australia\n",
      "Access value from dict success_estimates[i]:  [0.6, 0.33, 0.11, 0.14]\n",
      "Average of list from success_estimates[i]:  0.29500000000000004\n",
      "--Go to next iteration of loop--\n",
      "--Begin one iteration of loop--\n",
      "Element of country_name_list, placeholder i = France\n",
      "Access value from dict success_estimates[i]:  [0.66, 0.78, 0.98, 0.2]\n",
      "Average of list from success_estimates[i]:  0.655\n",
      "--Go to next iteration of loop--\n",
      "--Begin one iteration of loop--\n",
      "Element of country_name_list, placeholder i = Italy\n",
      "Access value from dict success_estimates[i]:  [0.6]\n",
      "Average of list from success_estimates[i]:  0.6\n",
      "--Go to next iteration of loop--\n",
      "--Begin one iteration of loop--\n",
      "Element of country_name_list, placeholder i = Brazil\n",
      "Access value from dict success_estimates[i]:  [0.22, 0.22, 0.43]\n",
      "Average of list from success_estimates[i]:  0.29\n",
      "--Go to next iteration of loop--\n",
      "--Begin one iteration of loop--\n",
      "Element of country_name_list, placeholder i = USA\n",
      "Access value from dict success_estimates[i]:  [0.2, 0.5, 0.3]\n",
      "Average of list from success_estimates[i]:  0.3333333333333333\n",
      "--Go to next iteration of loop--\n",
      "--Begin one iteration of loop--\n",
      "Element of country_name_list, placeholder i = England\n",
      "Access value from dict success_estimates[i]:  [0.45]\n",
      "Average of list from success_estimates[i]:  0.45\n",
      "--Go to next iteration of loop--\n",
      "--Begin one iteration of loop--\n",
      "Element of country_name_list, placeholder i = Canada\n",
      "Access value from dict success_estimates[i]:  [0.25, 0.3]\n",
      "Average of list from success_estimates[i]:  0.275\n",
      "--Go to next iteration of loop--\n",
      "--Begin one iteration of loop--\n",
      "Element of country_name_list, placeholder i = Argentina\n",
      "Access value from dict success_estimates[i]:  [0.22]\n",
      "Average of list from success_estimates[i]:  0.22\n",
      "--Go to next iteration of loop--\n",
      "--Begin one iteration of loop--\n",
      "Element of country_name_list, placeholder i = Greece\n",
      "Access value from dict success_estimates[i]:  [0.45, 0.66, 0.75, 0.99, 0.15, 0.66]\n",
      "Average of list from success_estimates[i]:  0.61\n",
      "--Go to next iteration of loop--\n",
      "--Begin one iteration of loop--\n",
      "Element of country_name_list, placeholder i = Morocco\n",
      "Access value from dict success_estimates[i]:  [0.29]\n",
      "Average of list from success_estimates[i]:  0.29\n",
      "--Go to next iteration of loop--\n",
      "--Begin one iteration of loop--\n",
      "Element of country_name_list, placeholder i = Tunisia\n",
      "Access value from dict success_estimates[i]:  [0.68, 0.56]\n",
      "Average of list from success_estimates[i]:  0.6200000000000001\n",
      "--Go to next iteration of loop--\n",
      "--Begin one iteration of loop--\n",
      "Element of country_name_list, placeholder i = Egypt\n",
      "Access value from dict success_estimates[i]:  [0.99]\n",
      "Average of list from success_estimates[i]:  0.99\n",
      "--Go to next iteration of loop--\n",
      "--Begin one iteration of loop--\n",
      "Element of country_name_list, placeholder i = Jamaica\n",
      "Access value from dict success_estimates[i]:  [0.61, 0.65, 0.71]\n",
      "Average of list from success_estimates[i]:  0.6566666666666666\n",
      "--Go to next iteration of loop--\n",
      "--Begin one iteration of loop--\n",
      "Element of country_name_list, placeholder i = Switzerland\n",
      "Access value from dict success_estimates[i]:  [0.73, 0.86, 0.84, 0.51, 0.99]\n",
      "Average of list from success_estimates[i]:  0.7859999999999999\n",
      "--Go to next iteration of loop--\n",
      "--Begin one iteration of loop--\n",
      "Element of country_name_list, placeholder i = Germany\n",
      "Access value from dict success_estimates[i]:  [0.45, 0.49, 0.36]\n",
      "Average of list from success_estimates[i]:  0.4333333333333333\n",
      "--Go to next iteration of loop--\n"
     ]
    }
   ],
   "source": [
    "# Loop through all countries and calculate their mean success estimate\n",
    "for i in country_name_list:\n",
    "    print('--Begin one iteration of loop--')\n",
    "    print('Element of country_name_list, placeholder i = ' + i)\n",
    "    print('Access value from dict success_estimates[i]: ', success_estimates[i])\n",
    "    print('Average of list from success_estimates[i]: ', sum(success_estimates[i]) / len(success_estimates[i]))\n",
    "    print('--Go to next iteration of loop--')"
   ]
  },
  {
   "cell_type": "markdown",
   "metadata": {},
   "source": [
    "Let's take a closer look at the above ```for``` loop. The ```country_name_list``` has 15 countries which the ```for``` loop is iterating over. The ```for``` loop uses a placeholder variable, denoted ```i``` in this case, to store the element of ```country_name_list``` that each loop iteration corresponds to. Namely, for the first iteration of the ```for``` loop, ```i = 'Brazil'```. For the second iteration, ```i = 'Canada'```. And so on until the loop reaches the final element of ```country_name_list```, which it then completes and exits the looping process.\n",
    "\n",
    "Why is this looping process useful? Well, we've performed the same calculation statements 15 times while only writing the code once! Notice that for each iteration, the corresponding value from ```success_estimates``` is accessed, and the mean of the returned list is calculated. The ```for``` loop process also enhances code readability."
   ]
  },
  {
   "cell_type": "markdown",
   "metadata": {},
   "source": [
    "### Exercise 4 (4 min):\n",
    "\n",
    "Write a `for` loop to instead calculate the minimum and maximum of each country's list of success estimates, printing each out consecutively as in the `for` loop example above."
   ]
  },
  {
   "cell_type": "markdown",
   "metadata": {},
   "source": [
    "**Answer.**"
   ]
  },
  {
   "cell_type": "code",
   "execution_count": 30,
   "metadata": {},
   "outputs": [
    {
     "name": "stdout",
     "output_type": "stream",
     "text": [
      "--Begin one iteration of loop--\n",
      "Element of country_name_list, placeholder i = Australia\n",
      "Access value from dict success_estimates[i]:  [0.6, 0.33, 0.11, 0.14]\n",
      "Max of list from success_estimates[i]:  0.6\n",
      "Min of list from success_estimates[i]:  0.11\n",
      "--Go to next iteration of loop--\n",
      "--Begin one iteration of loop--\n",
      "Element of country_name_list, placeholder i = France\n",
      "Access value from dict success_estimates[i]:  [0.66, 0.78, 0.98, 0.2]\n",
      "Max of list from success_estimates[i]:  0.98\n",
      "Min of list from success_estimates[i]:  0.2\n",
      "--Go to next iteration of loop--\n",
      "--Begin one iteration of loop--\n",
      "Element of country_name_list, placeholder i = Italy\n",
      "Access value from dict success_estimates[i]:  [0.6]\n",
      "Max of list from success_estimates[i]:  0.6\n",
      "Min of list from success_estimates[i]:  0.6\n",
      "--Go to next iteration of loop--\n",
      "--Begin one iteration of loop--\n",
      "Element of country_name_list, placeholder i = Brazil\n",
      "Access value from dict success_estimates[i]:  [0.22, 0.22, 0.43]\n",
      "Max of list from success_estimates[i]:  0.43\n",
      "Min of list from success_estimates[i]:  0.22\n",
      "--Go to next iteration of loop--\n",
      "--Begin one iteration of loop--\n",
      "Element of country_name_list, placeholder i = USA\n",
      "Access value from dict success_estimates[i]:  [0.2, 0.5, 0.3]\n",
      "Max of list from success_estimates[i]:  0.5\n",
      "Min of list from success_estimates[i]:  0.2\n",
      "--Go to next iteration of loop--\n",
      "--Begin one iteration of loop--\n",
      "Element of country_name_list, placeholder i = England\n",
      "Access value from dict success_estimates[i]:  [0.45]\n",
      "Max of list from success_estimates[i]:  0.45\n",
      "Min of list from success_estimates[i]:  0.45\n",
      "--Go to next iteration of loop--\n",
      "--Begin one iteration of loop--\n",
      "Element of country_name_list, placeholder i = Canada\n",
      "Access value from dict success_estimates[i]:  [0.25, 0.3]\n",
      "Max of list from success_estimates[i]:  0.3\n",
      "Min of list from success_estimates[i]:  0.25\n",
      "--Go to next iteration of loop--\n",
      "--Begin one iteration of loop--\n",
      "Element of country_name_list, placeholder i = Argentina\n",
      "Access value from dict success_estimates[i]:  [0.22]\n",
      "Max of list from success_estimates[i]:  0.22\n",
      "Min of list from success_estimates[i]:  0.22\n",
      "--Go to next iteration of loop--\n",
      "--Begin one iteration of loop--\n",
      "Element of country_name_list, placeholder i = Greece\n",
      "Access value from dict success_estimates[i]:  [0.45, 0.66, 0.75, 0.99, 0.15, 0.66]\n",
      "Max of list from success_estimates[i]:  0.99\n",
      "Min of list from success_estimates[i]:  0.15\n",
      "--Go to next iteration of loop--\n",
      "--Begin one iteration of loop--\n",
      "Element of country_name_list, placeholder i = Morocco\n",
      "Access value from dict success_estimates[i]:  [0.29]\n",
      "Max of list from success_estimates[i]:  0.29\n",
      "Min of list from success_estimates[i]:  0.29\n",
      "--Go to next iteration of loop--\n",
      "--Begin one iteration of loop--\n",
      "Element of country_name_list, placeholder i = Tunisia\n",
      "Access value from dict success_estimates[i]:  [0.68, 0.56]\n",
      "Max of list from success_estimates[i]:  0.68\n",
      "Min of list from success_estimates[i]:  0.56\n",
      "--Go to next iteration of loop--\n",
      "--Begin one iteration of loop--\n",
      "Element of country_name_list, placeholder i = Egypt\n",
      "Access value from dict success_estimates[i]:  [0.99]\n",
      "Max of list from success_estimates[i]:  0.99\n",
      "Min of list from success_estimates[i]:  0.99\n",
      "--Go to next iteration of loop--\n",
      "--Begin one iteration of loop--\n",
      "Element of country_name_list, placeholder i = Jamaica\n",
      "Access value from dict success_estimates[i]:  [0.61, 0.65, 0.71]\n",
      "Max of list from success_estimates[i]:  0.71\n",
      "Min of list from success_estimates[i]:  0.61\n",
      "--Go to next iteration of loop--\n",
      "--Begin one iteration of loop--\n",
      "Element of country_name_list, placeholder i = Switzerland\n",
      "Access value from dict success_estimates[i]:  [0.73, 0.86, 0.84, 0.51, 0.99]\n",
      "Max of list from success_estimates[i]:  0.99\n",
      "Min of list from success_estimates[i]:  0.51\n",
      "--Go to next iteration of loop--\n",
      "--Begin one iteration of loop--\n",
      "Element of country_name_list, placeholder i = Germany\n",
      "Access value from dict success_estimates[i]:  [0.45, 0.49, 0.36]\n",
      "Max of list from success_estimates[i]:  0.49\n",
      "Min of list from success_estimates[i]:  0.36\n",
      "--Go to next iteration of loop--\n"
     ]
    }
   ],
   "source": [
    "# Loop through all countries and calculate their max and min success estimate\n",
    "test_list = [0,13]\n",
    "\n",
    "for i in country_name_list:\n",
    "        print('--Begin one iteration of loop--')\n",
    "        print('Element of country_name_list, placeholder i = ' + i)\n",
    "        print('Access value from dict success_estimates[i]: ', success_estimates[i])\n",
    "        print('Max of list from success_estimates[i]: ', max(success_estimates[i]))\n",
    "        print('Min of list from success_estimates[i]: ', min(success_estimates[i]))\n",
    "        print('--Go to next iteration of loop--')"
   ]
  },
  {
   "cell_type": "markdown",
   "metadata": {},
   "source": [
    "### Exercise 5 (4 min):\n",
    "\n",
    "Using the `for` loop, write code to determine the country with the largest range of success estimates (that is, the largest difference between the smallest and largest estimate for a country)."
   ]
  },
  {
   "cell_type": "markdown",
   "metadata": {},
   "source": [
    "**Answer.**"
   ]
  },
  {
   "cell_type": "markdown",
   "metadata": {},
   "source": [
    "## Using list comprehensions to determine the number of estimates (12 min)"
   ]
  },
  {
   "cell_type": "markdown",
   "metadata": {},
   "source": [
    "Moving forward, we are interested in knowing the number of success estimates available for each country. Python offers a concise way to achieve this goal through the use of <b>list comprehensions</b>.\n",
    "\n",
    "[List comprehensions](https://www.programiz.com/python-programming/list-comprehension) allow one to concisely build a list. Let's take a look at how this works:"
   ]
  },
  {
   "cell_type": "code",
   "execution_count": 24,
   "metadata": {},
   "outputs": [
    {
     "data": {
      "text/plain": [
       "['Australia',\n",
       " 'France',\n",
       " 'Italy',\n",
       " 'Brazil',\n",
       " 'USA',\n",
       " 'England',\n",
       " 'Canada',\n",
       " 'Argentina',\n",
       " 'Greece',\n",
       " 'Morocco',\n",
       " 'Tunisia',\n",
       " 'Egypt',\n",
       " 'Jamaica',\n",
       " 'Switzerland',\n",
       " 'Germany']"
      ]
     },
     "execution_count": 24,
     "metadata": {},
     "output_type": "execute_result"
    }
   ],
   "source": [
    "key_name_list = [i for i in success_estimates] # loop over each item i in success_estimates and put i in the list\n",
    "key_name_list"
   ]
  },
  {
   "cell_type": "markdown",
   "metadata": {},
   "source": [
    "Here we see that we've looped over each key of the dictionary `success_estimates` (hence each country), and extracted the country name, all in one line of code. We can also access the values of each key in `success_estimates`:"
   ]
  },
  {
   "cell_type": "code",
   "execution_count": 25,
   "metadata": {
    "scrolled": true
   },
   "outputs": [
    {
     "data": {
      "text/plain": [
       "[[0.6, 0.33, 0.11, 0.14],\n",
       " [0.66, 0.78, 0.98, 0.2],\n",
       " [0.6],\n",
       " [0.22, 0.22, 0.43],\n",
       " [0.2, 0.5, 0.3],\n",
       " [0.45],\n",
       " [0.25, 0.3],\n",
       " [0.22],\n",
       " [0.45, 0.66, 0.75, 0.99, 0.15, 0.66],\n",
       " [0.29],\n",
       " [0.68, 0.56],\n",
       " [0.99],\n",
       " [0.61, 0.65, 0.71],\n",
       " [0.73, 0.86, 0.84, 0.51, 0.99],\n",
       " [0.45, 0.49, 0.36]]"
      ]
     },
     "execution_count": 25,
     "metadata": {},
     "output_type": "execute_result"
    }
   ],
   "source": [
    "value_name_list = [success_estimates[country] for country in success_estimates] # loop over each item in success_estimates and put success_estimates[i] in the list\n",
    "value_name_list"
   ]
  },
  {
   "cell_type": "markdown",
   "metadata": {},
   "source": [
    "In the list comprehension above, each value of the ```iterator_variable``` is a country name and the value is returned when ```success_estimates[country]``` is called. We see the list comprehension is an effective and concise way to write a `for` loop that creates a list.\n",
    "\n",
    "We can the use this to quickly determine how many success estimates are available for each country:"
   ]
  },
  {
   "cell_type": "code",
   "execution_count": 26,
   "metadata": {},
   "outputs": [
    {
     "data": {
      "text/plain": [
       "[['Australia', 4],\n",
       " ['France', 4],\n",
       " ['Italy', 1],\n",
       " ['Brazil', 3],\n",
       " ['USA', 3],\n",
       " ['England', 1],\n",
       " ['Canada', 2],\n",
       " ['Argentina', 1],\n",
       " ['Greece', 6],\n",
       " ['Morocco', 1],\n",
       " ['Tunisia', 2],\n",
       " ['Egypt', 1],\n",
       " ['Jamaica', 3],\n",
       " ['Switzerland', 5],\n",
       " ['Germany', 3]]"
      ]
     },
     "execution_count": 26,
     "metadata": {},
     "output_type": "execute_result"
    }
   ],
   "source": [
    "# Number of estimates available for each country\n",
    "[[i,len(success_estimates[i])] for i in success_estimates]"
   ]
  },
  {
   "cell_type": "markdown",
   "metadata": {},
   "source": [
    "### Exercise 6 (3 min):"
   ]
  },
  {
   "cell_type": "markdown",
   "metadata": {},
   "source": [
    "Using list comprehensions, write a script to create a <b>list of lists</b> called ```sum_squares_list```, where each element of the list is a two-item list [country name, value]. The value item in the list should be the sum of squares of that country's success estimates. For example, one element of ```sum_squares_list``` should be for Jamaica, where the two-item list is [Jamaica, 1.2987] (since 1.2987 = 0.61^2 + 0.65^2 + 0.71^2)."
   ]
  },
  {
   "cell_type": "markdown",
   "metadata": {},
   "source": [
    "**Answer.**"
   ]
  },
  {
   "cell_type": "markdown",
   "metadata": {},
   "source": [
    "### Exercise 7 (5 min):\n",
    "\n",
    "We'd like to determine the spread around the mean success estimate for each country. Using list comprehensions, write a script that subtracts the mean success estimate for a given country from each success estimate for that country. Store the results in a list named ```removed_mean_list```. Round values to two decimal places. Your output should produce the following list of lists:\n",
    "\n",
    "```\n",
    "[['Australia', [0.3, 0.03, -0.19, -0.16]],\n",
    " ['France', [0.01, 0.12, 0.32, -0.46]],\n",
    " ['Italy', [0.0]],\n",
    " ['Brazil', [-0.07, -0.07, 0.14]],\n",
    " ['USA', [-0.13, 0.17, -0.03]],\n",
    " ['England', [0.0]],\n",
    " ['Canada', [-0.03, 0.02]],\n",
    " ['Argentina', [0.0]],\n",
    " ['Greece', [-0.16, 0.05, 0.14, 0.38, -0.46, 0.05]],\n",
    " ['Morocco', [0.0]],\n",
    " ['Tunisia', [0.06, -0.06]],\n",
    " ['Egypt', [0.0]],\n",
    " ['Jamaica', [-0.05, -0.01, 0.05]],\n",
    " ['Switzerland', [-0.06, 0.07, 0.05, -0.28, 0.2]],\n",
    " ['Germany', [0.02, 0.06, -0.07]]]\n",
    "```"
   ]
  },
  {
   "cell_type": "markdown",
   "metadata": {},
   "source": [
    "**Answer.**"
   ]
  },
  {
   "cell_type": "markdown",
   "metadata": {},
   "source": [
    "As list comprehension gets more complicated, it becomes more and more important to use proper naming conventions for variables. Good naming conventions dramatically improve the readability of your code."
   ]
  },
  {
   "cell_type": "markdown",
   "metadata": {},
   "source": [
    "## Reflecting on the country-specific mean success estimate (5 min)"
   ]
  },
  {
   "cell_type": "markdown",
   "metadata": {},
   "source": [
    "Based on the above analysis, we see the mean country success estimates vary widely, from the lowest, Canada = 0.275, to the highest, Egypt = 0.99. However, notice that Egypt's mean is calculated from 1 success estimate. Are we confident in trusting a single estimate as a proxy for the average success estimate?\n",
    "\n",
    "Given that the global expansion project will utilize valuable company resources, we decide it is best to restrict our analysis to countries that have two or more success estimates. To accomplish this task, we will use a control structure in Python known as the <b>[if...elif...else statement](https://www.w3schools.com/python/python_conditions.asp)</b>. The general structure follows:\n",
    "\n",
    "```python\n",
    "if test_expression_1:\n",
    "    block1_statement(s)\n",
    "elif test_expression_2:\n",
    "    block2_statement2(s)\n",
    "else:\n",
    "    block3_statement(s)\n",
    "```\n",
    "\n",
    "Here, ```test_expression_1``` and ```test_expression_2``` must evaluate to ```True``` or ```False```, a Python <b>boolean</b> type. The boolean type is associated with variables that are either ```True``` or ```False```.\n",
    "\n",
    "If ```test_expression_1``` is True, ```block1_statement(s)``` will execute and the other block statements will not. If ```test_expression_1``` is False yet ```test_expression_2``` is True, then ```block2_statement2(s)``` will execute and the others will not. Finally, if ```test_expression_1``` and ```test_expression_2``` are both False, then the else section's ```block3_statement(s)``` will execute. This conditional structure of an if statement allows one to control the flow of Python code.\n",
    "\n",
    "Let's use this to filter out the countries that only have one success estimate."
   ]
  },
  {
   "cell_type": "markdown",
   "metadata": {},
   "source": [
    "## Selecting only multi-observation countries for global expansion potential (15 min)"
   ]
  },
  {
   "cell_type": "markdown",
   "metadata": {},
   "source": [
    "We will use the if statement above to remove countries with less than one success estimate. For convenience of viewing the result, we will store the mean estimates for each country in a new dictionary ```country_means```:"
   ]
  },
  {
   "cell_type": "code",
   "execution_count": 29,
   "metadata": {},
   "outputs": [],
   "source": [
    "# Get a list of all the country names\n",
    "country_name_list = list(success_estimates.keys())\n",
    "\n",
    "# Create an empty dictionary to hold country mean estimates\n",
    "country_means = {}\n",
    "\n",
    "# Loop through all countries and calculate their mean success estimate\n",
    "for i in country_name_list:\n",
    "    list_country_estimates = success_estimates[i] # list of estimates for a country\n",
    "\n",
    "    # if more than one country estimate, then record the mean estimate, otherwise go to next loop iteration\n",
    "    if len(success_estimates[i]) > 1:\n",
    "        country_mean_value = sum(list_country_estimates) / len(list_country_estimates)\n",
    "        country_means[i] =  country_mean_value # insert country mean value into dict using country name as key"
   ]
  },
  {
   "cell_type": "markdown",
   "metadata": {},
   "source": [
    "Let's format our results, [modifying the string output](https://www.geeksforgeeks.org/python-format-function/) to the screen to use 2 decimals when printing the float type. This is accomplished using the string type's ```.format()``` functionality. The ```{0:s}``` and ```{1:.2f}``` in the string indicate to the ```.format()``` method to format the first variable it receives as input as a string and replace the ```{0:s}``` placeholder, and to format the second variable it receives as input as a 2-decimal float and replace the ```{1:.2f}``` placeholder.\n",
    "\n",
    "With this formatting, the ```country_key``` variable will be displayed as a string in place of ```{0:s}```, while the ```country_means[country_key]``` variable will be displayed as a 2-decimal float in place of ```{1:.2f}```.  This advanced string formatting approach is useful to improve the clarity of the results:"
   ]
  },
  {
   "cell_type": "code",
   "execution_count": 30,
   "metadata": {
    "scrolled": true
   },
   "outputs": [
    {
     "name": "stdout",
     "output_type": "stream",
     "text": [
      "Country: Australia, Avg Success Estimate: 0.30\n",
      "Country: France, Avg Success Estimate: 0.66\n",
      "Country: Brazil, Avg Success Estimate: 0.29\n",
      "Country: USA, Avg Success Estimate: 0.33\n",
      "Country: Canada, Avg Success Estimate: 0.28\n",
      "Country: Greece, Avg Success Estimate: 0.61\n",
      "Country: Tunisia, Avg Success Estimate: 0.62\n",
      "Country: Jamaica, Avg Success Estimate: 0.66\n",
      "Country: Switzerland, Avg Success Estimate: 0.79\n",
      "Country: Germany, Avg Success Estimate: 0.43\n"
     ]
    }
   ],
   "source": [
    "# Nicely format the result for printing to the screen\n",
    "for country_key in country_means: \n",
    "    print(\"Country: {0:s}, Avg Success Estimate: {1:.2f}\".format(country_key, country_means[country_key]))"
   ]
  },
  {
   "cell_type": "markdown",
   "metadata": {},
   "source": [
    "Observing the resulting country means, we notice the country with the largest mean success estimate is Switzerland at 0.79, while the lowest mean success estimate is Canada at 0.28."
   ]
  },
  {
   "cell_type": "markdown",
   "metadata": {},
   "source": [
    "### Exercise 8 (6 min):\n",
    "\n",
    "After reviewing company policy on statistical procedures, you notice the company recommends that all estimates (averages, minimums, maximums) must have at least three values contributing to the summary statistic. Write a `for` loop and use the ```if``` statement structure to select and print the average success estimates for the countries satisfying this policy. If the country does not satisfy the policy, print the country name and ``\"*Does not meet company policy*\"``. Each country should appear on a new line."
   ]
  },
  {
   "cell_type": "markdown",
   "metadata": {},
   "source": [
    "**Answer.**"
   ]
  },
  {
   "cell_type": "code",
   "execution_count": 13,
   "metadata": {},
   "outputs": [
    {
     "ename": "NameError",
     "evalue": "name 'success_estimates' is not defined",
     "output_type": "error",
     "traceback": [
      "\u001b[1;31m---------------------------------------------------------------------------\u001b[0m",
      "\u001b[1;31mNameError\u001b[0m                                 Traceback (most recent call last)",
      "\u001b[1;32m<ipython-input-13-4d94d2241259>\u001b[0m in \u001b[0;36m<module>\u001b[1;34m\u001b[0m\n\u001b[0;32m      1\u001b[0m \u001b[1;31m# Get a list of all the country names\u001b[0m\u001b[1;33m\u001b[0m\u001b[1;33m\u001b[0m\u001b[1;33m\u001b[0m\u001b[0m\n\u001b[1;32m----> 2\u001b[1;33m \u001b[0mcountry_name_list\u001b[0m \u001b[1;33m=\u001b[0m \u001b[0mlist\u001b[0m\u001b[1;33m(\u001b[0m\u001b[0msuccess_estimates\u001b[0m\u001b[1;33m.\u001b[0m\u001b[0mkeys\u001b[0m\u001b[1;33m(\u001b[0m\u001b[1;33m)\u001b[0m\u001b[1;33m)\u001b[0m\u001b[1;33m\u001b[0m\u001b[1;33m\u001b[0m\u001b[0m\n\u001b[0m\u001b[0;32m      3\u001b[0m \u001b[1;33m\u001b[0m\u001b[0m\n\u001b[0;32m      4\u001b[0m \u001b[1;31m# Create an empty dictionary to hold country mean estimates\u001b[0m\u001b[1;33m\u001b[0m\u001b[1;33m\u001b[0m\u001b[1;33m\u001b[0m\u001b[0m\n\u001b[0;32m      5\u001b[0m \u001b[0mcountry_means\u001b[0m \u001b[1;33m=\u001b[0m \u001b[1;33m{\u001b[0m\u001b[1;33m}\u001b[0m\u001b[1;33m\u001b[0m\u001b[1;33m\u001b[0m\u001b[0m\n",
      "\u001b[1;31mNameError\u001b[0m: name 'success_estimates' is not defined"
     ]
    }
   ],
   "source": [
    "# Get a list of all the country names\n",
    "country_name_list = list(success_estimates.keys())\n",
    "\n",
    "# Create an empty dictionary to hold country mean estimates\n",
    "country_means = {}\n",
    "\n",
    "# Loop through all countries and calculate their mean success estimate\n",
    "for i in country_name_list:\n",
    "    list_country_estimates = success_estimates[i] # list of estimates for a country\n",
    "\n",
    "    # if more than one country estimate, then record the mean estimate, otherwise go to next loop iteration\n",
    "    if len(success_estimates[i]) > 2:\n",
    "        country_mean_value = sum(list_country_estimates) / len(list_country_estimates)\n",
    "        country_means[i] =  country_mean_value # insert country mean value into dict using country name as key\n",
    "        print(\"Country: {0:s}, Avg Success Estimate: {1:.2f}\".format(i, country_means[i]))\n",
    "    else:\n",
    "        print(\"Country: {0:s}, *Does not meet company policy*\".format(i))"
   ]
  },
  {
   "cell_type": "markdown",
   "metadata": {},
   "source": [
    "### Exercise 9 (5 min):\n",
    "\n",
    "What is another approach to resolve the one-sample problem for some countries? Think in terms of the factors that drive confidence in data-driven business decisions.\n",
    "\n",
    "(a) Group countries together to larger regions to ensure each region has at least one estimate\n",
    "\n",
    "(b) Only remove a country if its estimates are very large or very small compared to other estimates\n",
    "\n",
    "(c) Use a different summary statistic for the analysis other than the average value\n",
    "\n",
    "(d) Revisit why some countries only have one estimate and see if more data can be sourced for these countries\n",
    "\n",
    "**Answer.**"
   ]
  },
  {
   "cell_type": "markdown",
   "metadata": {},
   "source": [
    "## Putting it all together (5 min)"
   ]
  },
  {
   "cell_type": "markdown",
   "metadata": {},
   "source": [
    "We've used for loops and control structures to calculate partial summary statistics for each of the countries. Let's put it all together to obtain a recommendation on which country we should choose to expand the luxury flight services."
   ]
  },
  {
   "cell_type": "markdown",
   "metadata": {},
   "source": [
    "### Exercise 10: (5 min)\n",
    "\n",
    "Write code to print each country name and summary statistics. Each line should show one country and the corresponding summary statistics: Min Estimate (float), Average Estimate (float), Max Estimate (float), Number of Estimates (int), Meets Company Policy of at least 3 estimates (bool). For example, the line for France would appear as:\n",
    "```\n",
    "Country: France , Min: 0.2 , Average: 0.655 , Max: 0.98 , NumEst: 4 , MeetsPolicy: True\n",
    "```"
   ]
  },
  {
   "cell_type": "markdown",
   "metadata": {},
   "source": [
    "**Answer.**"
   ]
  },
  {
   "cell_type": "markdown",
   "metadata": {},
   "source": [
    "Now that we have summary statistics for a variety of country estimates, let's construct our actionable business recommendation."
   ]
  },
  {
   "cell_type": "markdown",
   "metadata": {},
   "source": [
    "## Conclusions (3 min)\n",
    "\n",
    "From the analysis, Switzerland is the country with the largest chance of success for global expansion with an estimated success rate of 0.79. The summary statistic for Switzerland was calculated with an adequate number of estimates according to company policy. Thus, it is recommended that management explore opportunities in Switzerland for luxury flight services.\n",
    "\n",
    "In addition, other countries that should be closely monitored for luxury flight services are Jamaica and France, where each held a 0.66 average success estimate. If there are additional resources in the future for further luxury service expansion, these countries may be apt choices."
   ]
  },
  {
   "cell_type": "markdown",
   "metadata": {
    "collapsed": true
   },
   "source": [
    "## Takeaways (5 min)\n",
    "\n",
    "In this case, we've learned the foundations of Python. Through identifying global expansion opportunities for an airline company we've covered fundamental data types, control structures, and a useful Python workflow to analyze a given set of data. You also learned about various summary statistics and how much confidence you can have in drawing conclusions from them.\n",
    "\n",
    "To recap, these are some of the building blocks of Python we just covered and we recommend you become very familiar with them before moving ahead:\n",
    "- variables\n",
    "- data types\n",
    "- `print` (how to format within `print` function)\n",
    "- lists\n",
    "- dictionaries\n",
    "- slicing/iterating\n",
    "- `for` loop\n",
    "- `if...elif...else` statements\n",
    "- list comprehension\n",
    "\n",
    "You can use these Python tools as both a foundation and a framework to build more complex projects and solve critical business problems. Python continues to be an outstanding tool to perform data-driven analysis and deliver key business insights."
   ]
  }
 ],
 "metadata": {
  "kernelspec": {
   "display_name": "Python 3",
   "language": "python",
   "name": "python3"
  },
  "language_info": {
   "codemirror_mode": {
    "name": "ipython",
    "version": 3
   },
   "file_extension": ".py",
   "mimetype": "text/x-python",
   "name": "python",
   "nbconvert_exporter": "python",
   "pygments_lexer": "ipython3",
   "version": "3.6.5"
  }
 },
 "nbformat": 4,
 "nbformat_minor": 1
}
